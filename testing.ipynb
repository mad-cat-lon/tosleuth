{
 "cells": [
  {
   "cell_type": "code",
   "execution_count": 34,
   "metadata": {},
   "outputs": [
    {
     "name": "stdout",
     "output_type": "stream",
     "text": [
      "{\n",
      "\"choice\": 0,\n",
      "\"reason\": \"None of the given texts directly address the statement that the service can read your private messages. The texts mention logging information, account creation, and public sharing of information, but do not mention reading private messages.\"\n",
      "}\n"
     ]
    }
   ],
   "source": [
    "import fireworks.client\n",
    "fireworks.client.api_key = \"0QX3IdsrikDEomAyxHtKVcW7WA5a4WfC5IlJkb0jbB79YiKB\"\n",
    "prompt = \"\"\"\n",
    "<s>[INST] <<SYS>>\n",
    "\n",
    "Given a legal statement and 4 pieces of text extracted from the document, pick the one that answers the statement best and choose the number. Some of the statements may not directly answer the statement or be relevant. If no texts are satisfactory, choose 0. Output a valid JSON object containing the choice of text and your reasoning, but keep it concise. DO NOT OUTPUT ANYTHING OTHER THAN THE JSON OBJECT.\n",
    "Here are a few examples of inputs and outputs. \n",
    "\n",
    "INPUT:\n",
    "Given the statement \"You sign away all moral rights\", which of the following texts, if any, answer it?\n",
    "\n",
    "1) \"you irrevocably waive any claims and assertions of moral rights or attribution with respect to Your Content.\"\n",
    "\n",
    "2) \"We reserve the right to modify, suspend, or discontinue the Services (in whole or in part) at any time\"\n",
    "\n",
    "3) \"You will not license, sell, or transfer your Account without our prior written approval.\"\n",
    "\n",
    "4) \"By submitting Your Content to the Services, you represent and warrant that you have all rights, power, and authority necessary to grant the rights to Your Content contained within these Terms. Because you alone are responsible for Your \n",
    "Content, you may expose yourself to liability if you post or share Content without all necessary rights.\"\n",
    "\n",
    "OUTPUT:\n",
    "{\n",
    "    \"choice\": 1,\n",
    "    \"reason\": \"This text explicitly mentions that the user waives moral rights with respect to their content, which aligns with the statement. The other texts do not directly address moral rights and are unrelated to the given statement.\"\n",
    "}\n",
    "\n",
    "INPUT: \n",
    "Given the statement \"The service can delete specific content without prior notice and without a reason\", which of the following texts, if any, answer it? Think carefully. \n",
    "\n",
    "1) \"Also, please note that if you knowingly misrepresent that any activity or material on our Service is infringing, you may be liable to Reddit for certain costs and damages. If we remove Your Content in response to a copyright or trademark notice, we will notify you via Reddit’s private messaging system.\"\n",
    "\n",
    "2)  \"we may, in our sole discretion, delete or remove Your Content at any time and for any reason\"\n",
    "\n",
    "3) \"You also agree that we may remove metadata associated with Your Content, and\"\n",
    "\n",
    "4) \"If you believe Your Content was wrongly removed due to a mistake or misidentification in a copyright notice, you can send a counter notification via our Copyright Counter Notice Form or to our Copyright Agent (contact information provided above). Please see 17 U.S.C. § 512(g)(3) for the requirements of a proper counter notification.\"\n",
    "\n",
    "OUTPUT:\n",
    "{\n",
    "    \"choice\": 2,\n",
    "    \"reason\": \"This text explicitly states that the service may delete content at any time and for any reason without prior notice, which aligns with the given statement. The other texts do not directly address this aspect of the service's behavior.\"\n",
    "}\n",
    "<</SYS>>\n",
    "\n",
    "Given the statement \"The service can read your private messages\", which of the following texts, if any, answer it? Think carefully. \n",
    "\n",
    "1) <br>We may log information when you access and use the Services. This may include your IP address,\n",
    "\n",
    "2) ACCESS TO, AND USE OF, THE SERVICES IS AT YOUR OWN DISCRETION AND RISK, AND YOU WILL BE SOLELY RESPONSIBLE FOR ANY DAMAGE TO YOUR DEVICE OR COMPUTER SYSTEM, OR LOSS OF DATA RESULTING THEREFROM.\n",
    "\n",
    "3) , with or without notice to you. Any future release, update, or other addition to functionality of the Services will be subject to these Terms, which may be updated from time to time. You agree that we will not be liable to you or to any third party for any modification, suspension, or discontinuation of the Services or any part thereof.</p> <strong>3. Your Reddit Account and Account Security</strong> <p>To use certain features of our Services, you may be required to create a Reddit account (an “<strong>Account</strong>”) and provide us with a username, password, and certain other information about yourself as set forth in the Privacy Policy.\n",
    "\n",
    "4) (for information about how to opt out of these communications, see “Your Choices” below);</li> <li>Monitor and analyze trends, usage, and activities in connection with our Services. </li> <li>Measure the effectiveness of ads shown on our Services. and</li> <li>Personalize the Services, and provide and optimize advertisements, content, and features that match user profiles or interests.</li> </ul> <p>Much of the information on the Services is public and accessible to everyone, even without an account. By using the Services, you are directing us to share this information publicly and freely.</p> <p>When you submit content (including a post, comment, chat message, or RPAN broadcast) to a public part of the Services, any visitors to and users of our Services will be able to see that content, the username associated with the content, and the date and time you originally submitted the content. Reddit allows other sites to embed public Reddit content via our embed tools. Reddit also allows third parties to access public Reddit content via the Reddit API and other similar technologies.\n",
    "[/INST]\n",
    "\n",
    "\"\"\"\n",
    "completion = fireworks.client.ChatCompletion.create(\n",
    "  model=\"accounts/fireworks/models/mistral-7b-instruct-4k\",\n",
    "  messages=[\n",
    "    {\n",
    "      \"role\": \"user\",\n",
    "      \"content\": prompt\n",
    "    }\n",
    "  ],\n",
    "  n=1,\n",
    "  max_tokens=200,\n",
    "  temperature=0.1,\n",
    "  top_p=0.9, \n",
    ")\n",
    "print(completion.choices[0].message.content)"
   ]
  },
  {
   "cell_type": "code",
   "execution_count": 18,
   "metadata": {},
   "outputs": [
    {
     "name": "stdout",
     "output_type": "stream",
     "text": [
      "role='assistant' content=None\n",
      "role=None content='Given the statement \"The service'\n",
      "role=None content=' can read your private messages'\n",
      "role=None content='\", which of the following'\n",
      "role=None content=' texts, if any,'\n",
      "role=None content=' answer it? Think carefully'\n",
      "role=None content='.\\n\\n1)'\n",
      "role=None content=' <br>We may'\n",
      "role=None content=' log information when you access'\n",
      "role=None content=' and use the Services.'\n",
      "role=None content=' This may include your IP'\n",
      "role=None content=' address,\\n\\n2'\n",
      "role=None content=') ACCESS TO,'\n",
      "role=None content=' AND USE OF, THE'\n",
      "role=None content=' SERVICES IS AT'\n",
      "role=None content=' YOUR OWN DISCRE'\n",
      "role=None content='TION AND RISK'\n",
      "role=None content=', AND YOU WILL'\n",
      "role=None content=' BE SOLELY RES'\n",
      "role=None content='PONSIBLE'\n",
      "role=None content=' FOR ANY DAMAGE'\n"
     ]
    }
   ],
   "source": [
    "for i in completion:\n",
    "    print(i.choices[0].delta)"
   ]
  }
 ],
 "metadata": {
  "kernelspec": {
   "display_name": "Python 3",
   "language": "python",
   "name": "python3"
  },
  "language_info": {
   "codemirror_mode": {
    "name": "ipython",
    "version": 3
   },
   "file_extension": ".py",
   "mimetype": "text/x-python",
   "name": "python",
   "nbconvert_exporter": "python",
   "pygments_lexer": "ipython3",
   "version": "3.9.13"
  }
 },
 "nbformat": 4,
 "nbformat_minor": 2
}
