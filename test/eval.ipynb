{
 "cells": [
  {
   "cell_type": "code",
   "execution_count": 2,
   "metadata": {},
   "outputs": [],
   "source": [
    "import requests\n",
    "import json\n",
    "import pprint\n",
    "import time "
   ]
  },
  {
   "cell_type": "code",
   "execution_count": 3,
   "metadata": {},
   "outputs": [],
   "source": [
    "services = []"
   ]
  },
  {
   "cell_type": "code",
   "execution_count": 4,
   "metadata": {},
   "outputs": [
    {
     "name": "stdout",
     "output_type": "stream",
     "text": [
      "{\"error\":256,\"message\":\"All services below\",\"parameters\":{\"_page\":{\"total\":8919,\"current\":1,\"start\":1,\"end\":90},\"services\":[{\"id\":440,\"is_comprehensively_reviewed\":false,\"name\":\"pebble\",\"updated_at\":\"2021-03-25T03:19:30.208Z\",\"created_at\":\"2018-05-08T12:19:44.833Z\",\"slug\":\"pebble\",\"rating\":null,\"urls\":[\"pebble.com\"],\"image\":\"https://s3.tosdr.org/logos/440.png\"},{\"id\":353,\"is_comprehensively_reviewed\":false,\"name\":\"Yammer\",\"updated_at\":\"2021-03-31T01:04:42.630Z\",\"created_at\":\"2018-05-08T12:19:43.120Z\",\"slug\":\"yammer\",\"rating\":null,\"urls\":[\"yammer.com\"],\"image\":\"https://s3.tosdr.org/logos/353.png\"},{\"id\":2894,\"is_comprehensively_reviewed\":false,\"name\":\"Instapaper\",\"updated_at\":\"2021-03-30T00:01:55.169Z\",\"created_at\":\"2021-03-29T17:44:07.407Z\",\"slug\":\"instapaper\",\"rating\":null,\"urls\":[\"instapaper.com\"],\"image\":\"https://s3.tosdr.org/logos/2894.png\"},{\"id\":3157,\"is_comprehensively_reviewed\":false,\"name\":\"UNRIC\",\"updated_at\":\"2021-04-17T00:00:48.616Z\",\"created_at\":\"2021-04-16T20:31:05.868Z\",\"slug\":\"unric\",\"rating\":null,\"urls\":[\"unric.org\"],\"image\":\"https://s3.tosdr.org/logos/3157.png\"},{\"id\":162,\"is_comprehensively_reviewed\":false,\"name\":\"Infinity\",\"updated_at\":\"2021-03-25T03:19:37.306Z\",\"created_at\":\"2018-01-16T15:26:05.072Z\",\"slug\":\"infinity\",\"rating\":null,\"urls\":[\"infinity.com\",\"comcast.com\"],\"image\":\"https://s3.tosdr.org/logos/162.png\"},{\"id\":605,\"is_comprehensively_reviewed\":false,\"name\":\"Visions\",\"updated_at\":\"2021-03-25T03:19:37.529Z\",\"created_at\":\"2018-07-16T08:52:22.717Z\",\"slug\":\"visions\",\"rating\":null,\"urls\":[\"visions.de\"],\"image\":\"https://s3.tosdr.org/logos/605.png\"},{\"id\":212,\"is_comprehensively_reviewed\":false,\"name\":\"Shoppers Photo\",\"updated_at\":\"2021-06-24T00:30:04.245Z\",\"created_at\":\"2018-01-16T15:26:06.061Z\",\"slug\":\"shoppersphoto\",\"rating\":null,\"urls\":[\"shoppersphoto.ca\"],\"image\":\"https://s3.tosdr.org/logos/212.png\"},{\"id\":1946,\"is_comprehensively_reviewed\":true,\"name\":\"Telegram\",\"updated_at\":\"2021-07-10T12:33:34.512Z\",\"created_at\":\"2019-10-28T13:27:25.649Z\",\"slug\":\"telegram\",\"rating\":\"B\",\"urls\":[\"telegram.org\",\"telegram.dog\",\"t.me\"],\"image\":\"https://s3.tosdr.org/logos/1946.png\"},{\"id\":233,\"is_comprehensively_reviewed\":false,\"name\":\"Tory Burch LLC\",\"updated_at\":\"2021-06-25T02:32:49.308Z\",\"created_at\":\"2018-01-16T15:26:06.536Z\",\"slug\":\"toryburch\",\"rating\":null,\"urls\":[\"toryburch.com\"],\"image\":\"https://s3.tosdr.org/logos/233.png\"},{\"id\":327,\"is_comprehensively_reviewed\":true,\"name\":\"RiseUp.net\",\"updated_at\":\"2022-12-13T17:44:43.336Z\",\"created_at\":\"2018-01-24T09:26:59.541Z\",\"slug\":\"riseupnet\",\"rating\":\"B\",\"urls\":[\"riseup.net\",\"nzh3fv6jc6jskki3.onion\",\"vww6ybal4bd7szmgncyruucpgfkqahzddi37ktceo3ah7ngmcopnpyyd.onion\"],\"image\":\"https://s3.tosdr.org/logos/327.png\"},{\"id\":674,\"is_comprehensively_reviewed\":false,\"name\":\"DEPRECATED #16\",\"updated_at\":\"2021-07-07T22:06:31.882Z\",\"created_at\":\"2018-08-10T12:55:46.699Z\",\"slug\":\"merged_into_service_165_by_user_6\",\"rating\":null,\"urls\":[\"deprecated16\"],\"image\":\"https://s3.tosdr.org/logos/674.png\"},{\"id\":1222,\"is_comprehensively_reviewed\":false,\"name\":\"DEPRECATED #24\",\"updated_at\":\"2021-07-07T22:17:04.737Z\",\"created_at\":\"2019-01-06T17:10:03.677Z\",\"slug\":\"merged_into_service_244_by_user_6\",\"rating\":null,\"urls\":[\"deprecated24\"],\"image\":\"https://s3.tosdr.org/logos/1222.png\"},{\"id\":1225,\"is_comprehensively_reviewed\":false,\"name\":\"DEPRECATED #30\",\"updated_at\":\"2021-07-07T22:19:45.507Z\",\"created_at\":\"2019-01-06T17:10:50.282Z\",\"slug\":\"merged_into_service_1223_by_user_6\",\"rating\":null,\"urls\":[\"deprecated30\"],\"image\":\"https://s3.tosdr.org/logos/1225.png\"},{\"id\":1216,\"is_comprehensively_reviewed\":false,\"name\":\"DEPRECATED #31\",\"updated_at\":\"2021-07-07T22:19:59.319Z\",\"created_at\":\"2019-01-06T17:09:11.411Z\",\"slug\":\"merged_into_service_1213_by_user_6\",\"rating\":null,\"urls\":[\"deprecated31\"],\"image\":\"https://s3.tosdr.org/logos/1216.png\"},{\"id\":448,\"is_comprehensively_reviewed\":false,\"name\":\"mitfahrgelegenheit\",\"updated_at\":\"2022-08-10T22:00:06.297Z\",\"created_at\":\"2018-05-08T12:19:44.965Z\",\"slug\":\"mitfahrgelegenheit\",\"rating\":null,\"urls\":[\"mitfahrgelegenheit\"],\"image\":\"https://s3.tosdr.org/logos/448.png\"},{\"id\":2122,\"is_comprehensively_reviewed\":false,\"name\":\"Waardevolle Eenvoud\",\"updated_at\":\"2022-12-13T20:01:22.138Z\",\"created_at\":\"2020-01-13T21:08:16.998Z\",\"slug\":\"waardevolle_eenvoud\",\"rating\":null,\"urls\":[\"waardevolle-eenvoud.nl\",\"waardevolleeenvoud.nl\"],\"image\":\"https://s3.tosdr.org/logos/2122.png\"},{\"id\":685,\"is_comprehensively_reviewed\":false,\"name\":\"Amnesty International (DE)\",\"updated_at\":\"2021-03-25T03:19:37.832Z\",\"created_at\":\"2018-08-28T01:40:16.981Z\",\"slug\":\"amnesty_international_de\",\"rating\":null,\"urls\":[\"amnesty.de\"],\"image\":\"https://s3.tosdr.org/logos/685.png\"},{\"id\":615,\"is_comprehensively_reviewed\":false,\"name\":\"EMP\",\"updated_at\":\"2021-03-25T03:19:37.849Z\",\"created_at\":\"2018-07-16T10:36:02.500Z\",\"slug\":\"emp\",\"rating\":null,\"urls\":[\"emp-online.com\",\"emp.de\",\"emp.at\",\"large.nl\",\"emp-shop.se\",\"emp-online.ch\",\"emp-online.it\",\"emp-online.es\",\"emp.fi\",\"emp-shop.no\",\"emp.co.uk\",\"emp.ie\",\"emp-shop.cz\",\"emp-shop.sk\",\"emp-shop.pl\",\"emp-shop.dk\",\"large.be\",\"emp-online.fr\"],\"image\":\"https://s3.tosdr.org/logos/615.png\"},{\"id\":179,\"is_comprehensively_reviewed\":false,\"name\":\"pgoh13\",\"updated_at\":\"2021-07-17T19:52:23.776Z\",\"created_at\":\"2018-01-16T15:26:05.491Z\",\"slug\":\"pgoh13\",\"rating\":null,\"urls\":[\"pgoh13.free.fr\"],\"image\":\"https://s3.tosdr.org/logos/179.png\"},{\"id\":1625,\"is_comprehensively_reviewed\":false,\"name\":\"Goguardian\",\"updated_at\":\"2023-07-10T22:00:22.168Z\",\"created_at\":\"2019-06-14T01:28:11.056Z\",\"slug\":\"goguardian\",\"rating\":null,\"urls\":[\"goguardian.com\"],\"image\":\"https://s3.tosdr.org/logos/1625.png\"},{\"id\":511,\"is_comprehensively_reviewed\":true,\"name\":\"MyAnimeList\",\"updated_at\":\"2023-07-10T22:00:22.305Z\",\"created_at\":\"2018-06-03T04:08:35.289Z\",\"slug\":\"myanimelist\",\"rating\":\"D\",\"urls\":[\"myanimelist.net\"],\"image\":\"https://s3.tosdr.org/logos/511.png\"},{\"id\":372,\"is_comprehensively_reviewed\":false,\"name\":\"Billions in Change\",\"updated_at\":\"2023-07-10T22:00:22.349Z\",\"created_at\":\"2018-05-08T12:19:43.535Z\",\"slug\":\"billionsinchange\",\"rating\":null,\"urls\":[\"billionsinchange.com\"],\"image\":\"https://s3.tosdr.org/logos/372.png\"},{\"id\":486,\"is_comprehensively_reviewed\":false,\"name\":\"Abine Blur\",\"updated_at\":\"2023-07-10T22:00:22.391Z\",\"created_at\":\"2018-05-08T12:19:45.627Z\",\"slug\":\"abine_blur\",\"rating\":null,\"urls\":[\"abine.com\"],\"image\":\"https://s3.tosdr.org/logos/486.png\"},{\"id\":230,\"is_comprehensively_reviewed\":true,\"name\":\"PayPal\",\"updated_at\":\"2023-07-10T22:00:22.632Z\",\"created_at\":\"2018-01-16T15:26:06.469Z\",\"slug\":\"paypal\",\"rating\":\"E\",\"urls\":[\"paypal.com\",\"paypal-corp.com\",\"paypal.me\",\"paypalobjects.com\",\"paypal-gifts.com\",\"paypal-communication.com\",\"epl.paypal-communication.com\"],\"image\":\"https://s3.tosdr.org/logos/230.png\"},{\"id\":460,\"is_comprehensively_reviewed\":true,\"name\":\"Credit Karma\",\"updated_at\":\"2023-07-10T22:00:22.802Z\",\"created_at\":\"2018-05-08T12:19:45.193Z\",\"slug\":\"credit_karma\",\"rating\":\"E\",\"urls\":[\"creditkarma.com\"],\"image\":\"https://s3.tosdr.org/logos/460.png\"},{\"id\":441,\"is_comprehensively_reviewed\":false,\"name\":\"inter-chat\",\"updated_at\":\"2023-04-22T11:48:40.810Z\",\"created_at\":\"2018-05-08T12:19:44.851Z\",\"slug\":\"interchat\",\"rating\":null,\"urls\":[\"inter-chat.com\"],\"image\":\"https://s3.tosdr.org/logos/441.png\"},{\"id\":262,\"is_comprehensively_reviewed\":true,\"name\":\"Symbaloo\",\"updated_at\":\"2023-07-10T22:00:22.974Z\",\"created_at\":\"2018-01-16T15:26:07.063Z\",\"slug\":\"symbaloo\",\"rating\":\"D\",\"urls\":[\"symbaloo.com\"],\"image\":\"https://s3.tosdr.org/logos/262.png\"},{\"id\":168,\"is_comprehensively_reviewed\":false,\"name\":\"Airbnb\",\"updated_at\":\"2023-07-10T22:00:23.053Z\",\"created_at\":\"2018-01-16T15:26:05.199Z\",\"slug\":\"airbnb\",\"rating\":null,\"urls\":[\"airbnb.com\",\"abnb.me\"],\"image\":\"https://s3.tosdr.org/logos/168.png\"},{\"id\":402,\"is_comprehensively_reviewed\":false,\"name\":\"Covered California\",\"updated_at\":\"2023-07-10T22:00:23.412Z\",\"created_at\":\"2018-05-08T12:19:44.153Z\",\"slug\":\"coveredca\",\"rating\":null,\"urls\":[\"coveredca.com\"],\"image\":\"https://s3.tosdr.org/logos/402.png\"},{\"id\":158,\"is_comprehensively_reviewed\":true,\"name\":\"Apple Services\",\"updated_at\":\"2023-07-10T22:00:23.609Z\",\"created_at\":\"2018-01-16T15:26:04.975Z\",\"slug\":\"apple\",\"rating\":\"D\",\"urls\":[\"apple.com\",\"shazam.com\",\"webkit.org\",\"cdn-apple.com\",\"apple.news\"],\"image\":\"https://s3.tosdr.org/logos/158.png\"},{\"id\":2897,\"is_comprehensively_reviewed\":false,\"name\":\"Ready Player Me\",\"updated_at\":\"2023-07-10T22:00:23.655Z\",\"created_at\":\"2021-03-29T18:09:25.978Z\",\"slug\":\"ready_player_me\",\"rating\":null,\"urls\":[\"readyplayer.me\"],\"image\":\"https://s3.tosdr.org/logos/2897.png\"},{\"id\":306,\"is_comprehensively_reviewed\":true,\"name\":\"Mega\",\"updated_at\":\"2023-07-10T22:00:23.870Z\",\"created_at\":\"2018-01-16T15:26:07.925Z\",\"slug\":\"mega\",\"rating\":\"C\",\"urls\":[\"mega.nz\",\"mega.io\",\"g.api.mega.co.nz\",\"mega.co.nz\"],\"image\":\"https://s3.tosdr.org/logos/306.png\"},{\"id\":2136,\"is_comprehensively_reviewed\":true,\"name\":\"Le Soir\",\"updated_at\":\"2023-07-10T22:00:24.033Z\",\"created_at\":\"2020-01-25T16:48:24.979Z\",\"slug\":\"le_soir\",\"rating\":\"D\",\"urls\":[\"lesoir.be\",\"rossel.be\"],\"image\":\"https://s3.tosdr.org/logos/2136.png\"},{\"id\":183,\"is_comprehensively_reviewed\":true,\"name\":\"CouchSurfing\",\"updated_at\":\"2023-07-10T22:00:24.216Z\",\"created_at\":\"2018-01-16T15:26:05.544Z\",\"slug\":\"couchsurfing\",\"rating\":\"E\",\"urls\":[\"couchsurfing.org\",\"couchsurfing.com\"],\"image\":\"https://s3.tosdr.org/logos/183.png\"},{\"id\":186,\"is_comprehensively_reviewed\":true,\"name\":\"Flickr\",\"updated_at\":\"2023-07-10T22:00:24.338Z\",\"created_at\":\"2018-01-16T15:26:05.601Z\",\"slug\":\"flickr\",\"rating\":\"E\",\"urls\":[\"flickr.com\"],\"image\":\"https://s3.tosdr.org/logos/186.png\"},{\"id\":330,\"is_comprehensively_reviewed\":false,\"name\":\"SeenThis\",\"updated_at\":\"2023-07-10T22:00:24.385Z\",\"created_at\":\"2018-03-05T08:40:47.818Z\",\"slug\":\"seenthis\",\"rating\":null,\"urls\":[\"seenthis.net\"],\"image\":\"https://s3.tosdr.org/logos/330.png\"},{\"id\":3011,\"is_comprehensively_reviewed\":true,\"name\":\"CollegeBoard\",\"updated_at\":\"2023-07-10T22:00:24.497Z\",\"created_at\":\"2021-04-07T08:06:03.944Z\",\"slug\":\"collegeboard\",\"rating\":\"D\",\"urls\":[\"collegeboard.org\"],\"image\":\"https://s3.tosdr.org/logos/3011.png\"},{\"id\":225,\"is_comprehensively_reviewed\":true,\"name\":\"Spotify\",\"updated_at\":\"2023-07-10T22:00:24.755Z\",\"created_at\":\"2018-01-16T15:26:06.332Z\",\"slug\":\"spotify\",\"rating\":\"E\",\"urls\":[\"spotify.com\",\"spotifyforvendors.com\",\"spotifyjobs.com\"],\"image\":\"https://s3.tosdr.org/logos/225.png\"},{\"id\":2896,\"is_comprehensively_reviewed\":false,\"name\":\"Dhaka Tribune\",\"updated_at\":\"2023-07-10T22:00:24.829Z\",\"created_at\":\"2021-03-29T18:04:02.941Z\",\"slug\":\"dhaka_tribune\",\"rating\":null,\"urls\":[\"dhakatribune.com\"],\"image\":\"https://s3.tosdr.org/logos/2896.png\"},{\"id\":251,\"is_comprehensively_reviewed\":true,\"name\":\"Foursquare\",\"updated_at\":\"2023-07-10T22:00:21.875Z\",\"created_at\":\"2018-01-16T15:26:06.895Z\",\"slug\":\"foursquare\",\"rating\":\"D\",\"urls\":[\"foursquare.com\"],\"image\":\"https://s3.tosdr.org/logos/251.png\"},{\"id\":208,\"is_comprehensively_reviewed\":true,\"name\":\"Pure Dating\",\"updated_at\":\"2023-07-10T22:00:22.103Z\",\"created_at\":\"2018-01-16T15:26:06.001Z\",\"slug\":\"puredating\",\"rating\":\"D\",\"urls\":[\"pure.dating\"],\"image\":\"https://s3.tosdr.org/logos/208.png\"},{\"id\":753,\"is_comprehensively_reviewed\":false,\"name\":\"Chrischona Brugg\",\"updated_at\":\"2021-03-25T03:19:38.907Z\",\"created_at\":\"2018-10-17T09:46:04.798Z\",\"slug\":\"chrischona_brugg\",\"rating\":null,\"urls\":[\"chrischona-brugg.ch\"],\"image\":\"https://s3.tosdr.org/logos/753.png\"},{\"id\":791,\"is_comprehensively_reviewed\":false,\"name\":\"gtrs\",\"updated_at\":\"2021-03-25T03:19:38.960Z\",\"created_at\":\"2018-10-18T22:17:06.950Z\",\"slug\":\"gtrs\",\"rating\":null,\"urls\":[\"gtrs-online.de\",\"osterspektakel.de\"],\"image\":\"https://s3.tosdr.org/logos/791.png\"},{\"id\":802,\"is_comprehensively_reviewed\":false,\"name\":\"STI Webmail\",\"updated_at\":\"2021-03-25T03:19:39.096Z\",\"created_at\":\"2018-10-29T03:19:01.560Z\",\"slug\":\"sti_webmail\",\"rating\":null,\"urls\":[\"mail.sankogosei.co.id\"],\"image\":\"https://s3.tosdr.org/logos/802.png\"},{\"id\":842,\"is_comprehensively_reviewed\":false,\"name\":\"Maplin\",\"updated_at\":\"2021-03-25T03:19:39.692Z\",\"created_at\":\"2018-11-29T16:44:39.932Z\",\"slug\":\"maplin\",\"rating\":null,\"urls\":[\"https://www.maplin.co.uk\"],\"image\":\"https://s3.tosdr.org/logos/842.png\"},{\"id\":850,\"is_comprehensively_reviewed\":false,\"name\":\"MR HOMEBODY\",\"updated_at\":\"2021-03-25T03:19:39.813Z\",\"created_at\":\"2018-12-04T20:17:37.222Z\",\"slug\":\"mr_homebody\",\"rating\":null,\"urls\":[\"https://mrhomebody.com\",\" https://www.mrhomebody.com\"],\"image\":\"https://s3.tosdr.org/logos/850.png\"},{\"id\":1642,\"is_comprehensively_reviewed\":false,\"name\":\"Crypt-0n\",\"updated_at\":\"2021-03-25T03:19:39.918Z\",\"created_at\":\"2019-06-24T04:40:21.965Z\",\"slug\":\"crypt0n\",\"rating\":null,\"urls\":[\"crypt-0n.fr\",\"www.crypt-0n.fr\"],\"image\":\"https://s3.tosdr.org/logos/1642.png\"},{\"id\":879,\"is_comprehensively_reviewed\":false,\"name\":\"Rotten Tomatoes -> see Fandango https://edit.tosdr.org/services/2315\",\"updated_at\":\"2021-03-25T03:19:40.315Z\",\"created_at\":\"2018-12-19T04:59:34.995Z\",\"slug\":\"rotten_tomatoes_see_fandango_httpsedittosdrorgservices2315\",\"rating\":null,\"urls\":[\"see.fandango\"],\"image\":\"https://s3.tosdr.org/logos/879.png\"},{\"id\":1948,\"is_comprehensively_reviewed\":false,\"name\":\"Ali Reza Hayati's Personal Page\",\"updated_at\":\"2021-03-25T03:19:41.356Z\",\"created_at\":\"2019-10-30T19:47:15.984Z\",\"slug\":\"ali_reza_hayatis_personal_page\",\"rating\":null,\"urls\":[\"ealireza.com\"],\"image\":\"https://s3.tosdr.org/logos/1948.png\"},{\"id\":219,\"is_comprehensively_reviewed\":true,\"name\":\"Instagram\",\"updated_at\":\"2023-11-17T19:13:03.837Z\",\"created_at\":\"2018-01-16T15:26:06.211Z\",\"slug\":\"instagram\",\"rating\":\"E\",\"urls\":[\"instagram.com\",\"help.instagram.com\",\"about.instagram.com\",\"threads.net\"],\"image\":\"https://s3.tosdr.org/logos/219.png\"},{\"id\":1890,\"is_comprehensively_reviewed\":false,\"name\":\"Zur Institute Online CE Courses\",\"updated_at\":\"2021-03-25T03:19:41.806Z\",\"created_at\":\"2019-10-09T19:23:30.548Z\",\"slug\":\"zur_institute_online_ce_courses\",\"rating\":null,\"urls\":[\"zurinstitute.com\"],\"image\":\"https://s3.tosdr.org/logos/1890.png\"},{\"id\":2015,\"is_comprehensively_reviewed\":false,\"name\":\"NordPass Experts Group\",\"updated_at\":\"2021-03-25T03:19:41.941Z\",\"created_at\":\"2019-11-22T09:33:59.149Z\",\"slug\":\"nordpass_experts_group\",\"rating\":null,\"urls\":[\"expertsnordpasss.blogspot.com\"],\"image\":\"https://s3.tosdr.org/logos/2015.png\"},{\"id\":2938,\"is_comprehensively_reviewed\":false,\"name\":\"3commas\",\"updated_at\":\"2021-04-03T00:00:59.593Z\",\"created_at\":\"2021-04-02T17:49:19.512Z\",\"slug\":\"3commas\",\"rating\":null,\"urls\":[\"3commas.io\"],\"image\":\"https://s3.tosdr.org/logos/2938.png\"},{\"id\":3518,\"is_comprehensively_reviewed\":false,\"name\":\"Media Math\",\"updated_at\":\"2021-05-08T00:02:31.922Z\",\"created_at\":\"2021-05-07T16:40:55.127Z\",\"slug\":\"media_math\",\"rating\":null,\"urls\":[\"mediamath.com\"],\"image\":\"https://s3.tosdr.org/logos/3518.png\"},{\"id\":1569,\"is_comprehensively_reviewed\":false,\"name\":\"Feedbin\",\"updated_at\":\"2021-05-08T00:02:31.743Z\",\"created_at\":\"2019-05-18T12:47:21.693Z\",\"slug\":\"feedbin\",\"rating\":null,\"urls\":[\"feedbin.com\"],\"image\":\"https://s3.tosdr.org/logos/1569.png\"},{\"id\":3480,\"is_comprehensively_reviewed\":false,\"name\":\"OnLine Taxes\",\"updated_at\":\"2021-05-08T00:02:31.904Z\",\"created_at\":\"2021-05-07T16:15:56.558Z\",\"slug\":\"online_taxes\",\"rating\":null,\"urls\":[\"olt.com\"],\"image\":\"https://s3.tosdr.org/logos/3480.png\"},{\"id\":1938,\"is_comprehensively_reviewed\":false,\"name\":\"Stanford Lagunita\",\"updated_at\":\"2021-04-02T12:42:50.644Z\",\"created_at\":\"2019-10-21T11:16:55.048Z\",\"slug\":\"stanford_lagunita\",\"rating\":null,\"urls\":[\"lagunita.stanford.edu\"],\"image\":\"https://s3.tosdr.org/logos/1938.png\"},{\"id\":2187,\"is_comprehensively_reviewed\":false,\"name\":\"Codingame\",\"updated_at\":\"2021-03-25T03:19:43.692Z\",\"created_at\":\"2020-02-14T10:50:17.873Z\",\"slug\":\"codingame\",\"rating\":null,\"urls\":[\"codingame.com\",\"www.codingame.com\"],\"image\":\"https://s3.tosdr.org/logos/2187.png\"},{\"id\":3206,\"is_comprehensively_reviewed\":true,\"name\":\"Parler\",\"updated_at\":\"2021-05-03T22:11:53.908Z\",\"created_at\":\"2021-04-18T09:58:03.919Z\",\"slug\":\"parler\",\"rating\":\"B\",\"urls\":[\"parler.com\"],\"image\":\"https://s3.tosdr.org/logos/3206.png\"},{\"id\":969,\"is_comprehensively_reviewed\":true,\"name\":\"ToS;DR Phoenix\",\"updated_at\":\"2021-05-14T14:37:48.921Z\",\"created_at\":\"2018-12-21T00:57:18.464Z\",\"slug\":\"tosdr_phoenix\",\"rating\":\"A\",\"urls\":[\"edit.tosdr.org\"],\"image\":\"https://s3.tosdr.org/logos/969.png\"},{\"id\":909,\"is_comprehensively_reviewed\":false,\"name\":\"DEPRECATED #32\",\"updated_at\":\"2021-07-07T22:20:10.893Z\",\"created_at\":\"2018-12-19T05:23:27.732Z\",\"slug\":\"merged_into_service_905_by_user_6\",\"rating\":null,\"urls\":[\"deprecated32\"],\"image\":\"https://s3.tosdr.org/logos/909.png\"},{\"id\":259,\"is_comprehensively_reviewed\":false,\"name\":\"Everforo\",\"updated_at\":\"2021-06-25T17:11:58.064Z\",\"created_at\":\"2018-01-16T15:26:07.018Z\",\"slug\":\"freeforums_discontinued\",\"rating\":null,\"urls\":[\"everforo.com\",\"freeforums.org\"],\"image\":\"https://s3.tosdr.org/logos/259.png\"},{\"id\":293,\"is_comprehensively_reviewed\":false,\"name\":\"Bitbucket\",\"updated_at\":\"2021-06-25T23:30:14.985Z\",\"created_at\":\"2018-01-16T15:26:07.551Z\",\"slug\":\"merged_into_service_576_by_user_6\",\"rating\":null,\"urls\":[\"bitbucket.org\"],\"image\":\"https://s3.tosdr.org/logos/293.png\"},{\"id\":1546,\"is_comprehensively_reviewed\":false,\"name\":\"Tucows Domains\",\"updated_at\":\"2021-09-01T21:08:39.519Z\",\"created_at\":\"2019-05-12T08:43:43.838Z\",\"slug\":\"tucows_domains\",\"rating\":null,\"urls\":[\"tucowsdomains.com\"],\"image\":\"https://s3.tosdr.org/logos/1546.png\"},{\"id\":1005,\"is_comprehensively_reviewed\":false,\"name\":\"delete1005\",\"updated_at\":\"2022-09-08T23:51:29.212Z\",\"created_at\":\"2018-12-29T13:27:41.110Z\",\"slug\":\"somalia\",\"rating\":null,\"urls\":[\".01\"],\"image\":\"https://s3.tosdr.org/logos/1005.png\"},{\"id\":699,\"is_comprehensively_reviewed\":false,\"name\":\"EUC Lillebælt\",\"updated_at\":\"2022-12-15T20:40:16.700Z\",\"created_at\":\"2018-09-06T11:55:40.005Z\",\"slug\":\"euc_lilleblt\",\"rating\":null,\"urls\":[\"eucl.dk\"],\"image\":\"https://s3.tosdr.org/logos/699.png\"},{\"id\":888,\"is_comprehensively_reviewed\":false,\"name\":\"Digital\",\"updated_at\":\"2022-12-15T20:55:15.322Z\",\"created_at\":\"2018-12-19T05:10:24.810Z\",\"slug\":\"whoishostingthis\",\"rating\":null,\"urls\":[\"digital.com\",\"whoishostingthis.com\"],\"image\":\"https://s3.tosdr.org/logos/888.png\"},{\"id\":877,\"is_comprehensively_reviewed\":false,\"name\":\"InMotion Hosting\",\"updated_at\":\"2022-12-15T21:25:56.159Z\",\"created_at\":\"2018-12-19T04:58:19.154Z\",\"slug\":\"inmotion_hosting\",\"rating\":null,\"urls\":[\"inmotionhosting.com\"],\"image\":\"https://s3.tosdr.org/logos/877.png\"},{\"id\":1429,\"is_comprehensively_reviewed\":false,\"name\":\"...time is what you make of it...\",\"updated_at\":\"2021-03-25T03:19:44.151Z\",\"created_at\":\"2019-02-26T10:37:39.460Z\",\"slug\":\"time_is_what_you_make_of_it\",\"rating\":null,\"urls\":[\"dreamsworld.it\"],\"image\":\"https://s3.tosdr.org/logos/1429.png\"},{\"id\":1424,\"is_comprehensively_reviewed\":false,\"name\":\"Associação de Defesa da Privacidade Digital\",\"updated_at\":\"2021-03-25T03:19:44.245Z\",\"created_at\":\"2019-02-20T23:09:07.740Z\",\"slug\":\"associao_de_defesa_da_privacidade_digital\",\"rating\":null,\"urls\":[\"adpd.ong.br\"],\"image\":\"https://s3.tosdr.org/logos/1424.png\"},{\"id\":1459,\"is_comprehensively_reviewed\":false,\"name\":\"National Veterinary Institute (Sweden)\",\"updated_at\":\"2021-03-25T03:19:44.451Z\",\"created_at\":\"2019-03-26T07:13:08.806Z\",\"slug\":\"national_veterinary_institute_sweden\",\"rating\":null,\"urls\":[\"https://www.sva.se\"],\"image\":\"https://s3.tosdr.org/logos/1459.png\"},{\"id\":2017,\"is_comprehensively_reviewed\":false,\"name\":\"City of Sacramento\",\"updated_at\":\"2021-03-25T03:19:45.318Z\",\"created_at\":\"2019-11-23T05:32:59.877Z\",\"slug\":\"city_of_sacramento\",\"rating\":null,\"urls\":[\"cityofsacramento.org\"],\"image\":\"https://s3.tosdr.org/logos/2017.png\"},{\"id\":1616,\"is_comprehensively_reviewed\":false,\"name\":\"Deliberative Entertainment\",\"updated_at\":\"2023-07-10T22:00:25.340Z\",\"created_at\":\"2019-06-09T22:29:31.161Z\",\"slug\":\"deliberative_entertainment\",\"rating\":null,\"urls\":[\"deliberativegames.com\"],\"image\":\"https://s3.tosdr.org/logos/1616.png\"},{\"id\":1750,\"is_comprehensively_reviewed\":false,\"name\":\"Vox\",\"updated_at\":\"2023-06-05T22:00:34.143Z\",\"created_at\":\"2019-08-12T06:41:28.459Z\",\"slug\":\"vox\",\"rating\":null,\"urls\":[\"vox.com\"],\"image\":\"https://s3.tosdr.org/logos/1750.png\"},{\"id\":2257,\"is_comprehensively_reviewed\":false,\"name\":\"Moscow information cluster\",\"updated_at\":\"2023-07-10T22:00:25.388Z\",\"created_at\":\"2020-05-26T02:51:54.076Z\",\"slug\":\"moscow_information_cluster\",\"rating\":null,\"urls\":[\"i.moscow\"],\"image\":\"https://s3.tosdr.org/logos/2257.png\"},{\"id\":2068,\"is_comprehensively_reviewed\":true,\"name\":\"Surfshark\",\"updated_at\":\"2023-07-10T22:00:25.587Z\",\"created_at\":\"2020-01-02T13:12:32.790Z\",\"slug\":\"surfshark\",\"rating\":\"D\",\"urls\":[\"surfshark.com\"],\"image\":\"https://s3.tosdr.org/logos/2068.png\"},{\"id\":989,\"is_comprehensively_reviewed\":true,\"name\":\"Washington Post\",\"updated_at\":\"2023-07-10T22:00:25.787Z\",\"created_at\":\"2018-12-21T19:32:18.374Z\",\"slug\":\"washington_post\",\"rating\":\"E\",\"urls\":[\"washingtonpost.com\"],\"image\":\"https://s3.tosdr.org/logos/989.png\"},{\"id\":1342,\"is_comprehensively_reviewed\":false,\"name\":\"Blender Market\",\"updated_at\":\"2023-06-05T22:00:34.335Z\",\"created_at\":\"2019-01-12T18:41:10.639Z\",\"slug\":\"blender_market\",\"rating\":null,\"urls\":[\"blendermarket.com\"],\"image\":\"https://s3.tosdr.org/logos/1342.png\"},{\"id\":829,\"is_comprehensively_reviewed\":false,\"name\":\"Avaaz\",\"updated_at\":\"2023-07-10T22:00:25.826Z\",\"created_at\":\"2018-11-18T13:12:34.097Z\",\"slug\":\"avaaz\",\"rating\":null,\"urls\":[\"avaaz.org\"],\"image\":\"https://s3.tosdr.org/logos/829.png\"},{\"id\":2895,\"is_comprehensively_reviewed\":true,\"name\":\"Line Corporation\",\"updated_at\":\"2023-07-10T22:00:26.009Z\",\"created_at\":\"2021-03-29T17:52:03.165Z\",\"slug\":\"line_corporation\",\"rating\":\"E\",\"urls\":[\"linecorp.com\",\"line.me\"],\"image\":\"https://s3.tosdr.org/logos/2895.png\"},{\"id\":810,\"is_comprehensively_reviewed\":false,\"name\":\"E-Poll Surveys\",\"updated_at\":\"2023-06-05T22:00:34.922Z\",\"created_at\":\"2018-11-02T15:04:03.544Z\",\"slug\":\"epoll_surveys\",\"rating\":null,\"urls\":[\"epollsurveys.com\"],\"image\":\"https://s3.tosdr.org/logos/810.png\"},{\"id\":284,\"is_comprehensively_reviewed\":false,\"name\":\"JustPark\",\"updated_at\":\"2023-07-10T22:00:26.115Z\",\"created_at\":\"2018-01-16T15:26:07.419Z\",\"slug\":\"justpark\",\"rating\":null,\"urls\":[\"justpark.com\"],\"image\":\"https://s3.tosdr.org/logos/284.png\"},{\"id\":817,\"is_comprehensively_reviewed\":false,\"name\":\"Betty Crocker\",\"updated_at\":\"2023-07-10T22:00:26.155Z\",\"created_at\":\"2018-11-05T14:46:01.401Z\",\"slug\":\"betty_crocker\",\"rating\":null,\"urls\":[\"bettycrocker.com\"],\"image\":\"https://s3.tosdr.org/logos/817.png\"},{\"id\":1960,\"is_comprehensively_reviewed\":false,\"name\":\"FullContact\",\"updated_at\":\"2023-07-10T22:00:26.210Z\",\"created_at\":\"2019-11-07T18:53:59.176Z\",\"slug\":\"fullcontact\",\"rating\":null,\"urls\":[\"FullContact.com\",\" contactsplus.com\"],\"image\":\"https://s3.tosdr.org/logos/1960.png\"},{\"id\":1939,\"is_comprehensively_reviewed\":false,\"name\":\"State Farm\",\"updated_at\":\"2023-07-10T22:00:26.269Z\",\"created_at\":\"2019-10-21T17:27:43.070Z\",\"slug\":\"state_farm\",\"rating\":null,\"urls\":[\"statefarm.com\"],\"image\":\"https://s3.tosdr.org/logos/1939.png\"},{\"id\":1574,\"is_comprehensively_reviewed\":false,\"name\":\"Dashlane\",\"updated_at\":\"2023-07-10T22:00:26.352Z\",\"created_at\":\"2019-05-18T20:44:00.944Z\",\"slug\":\"dashlane\",\"rating\":null,\"urls\":[\"dashlane.com\"],\"image\":\"https://s3.tosdr.org/logos/1574.png\"},{\"id\":2063,\"is_comprehensively_reviewed\":false,\"name\":\"Ritual\",\"updated_at\":\"2023-07-10T22:00:26.392Z\",\"created_at\":\"2019-12-28T04:23:38.561Z\",\"slug\":\"ritual\",\"rating\":null,\"urls\":[\"ritual.com\",\"start.ritual.com\",\"startmy.ritual.com\",\"checkout.ritual.com\",\"account.ritual.com\"],\"image\":\"https://s3.tosdr.org/logos/2063.png\"},{\"id\":278,\"is_comprehensively_reviewed\":false,\"name\":\"Flattr\",\"updated_at\":\"2023-07-10T22:00:26.445Z\",\"created_at\":\"2018-01-16T15:26:07.335Z\",\"slug\":\"flattr\",\"rating\":null,\"urls\":[\"flattr.com\"],\"image\":\"https://s3.tosdr.org/logos/278.png\"},{\"id\":709,\"is_comprehensively_reviewed\":false,\"name\":\"Tartle\",\"updated_at\":\"2023-07-10T22:00:26.482Z\",\"created_at\":\"2018-09-14T03:05:54.655Z\",\"slug\":\"tartle\",\"rating\":null,\"urls\":[\"tartle.co\"],\"image\":\"https://s3.tosdr.org/logos/709.png\"},{\"id\":2071,\"is_comprehensively_reviewed\":false,\"name\":\"Chase\",\"updated_at\":\"2023-07-10T22:00:26.522Z\",\"created_at\":\"2020-01-02T17:00:48.518Z\",\"slug\":\"chase\",\"rating\":null,\"urls\":[\"chase.com\"],\"image\":\"https://s3.tosdr.org/logos/2071.png\"},{\"id\":3068,\"is_comprehensively_reviewed\":false,\"name\":\"Clario\",\"updated_at\":\"2023-08-11T10:00:13.527Z\",\"created_at\":\"2021-04-09T04:01:06.576Z\",\"slug\":\"clario\",\"rating\":null,\"urls\":[\"clario.co\"],\"image\":\"https://s3.tosdr.org/logos/3068.png\"},{\"id\":713,\"is_comprehensively_reviewed\":false,\"name\":\"Open Book Publishers\",\"updated_at\":\"2023-07-10T22:00:25.250Z\",\"created_at\":\"2018-09-20T10:20:37.000Z\",\"slug\":\"open_book_publishers\",\"rating\":null,\"urls\":[\"www.openbookpublishers.com\",\"openbookpublishers.com\"],\"image\":\"https://s3.tosdr.org/logos/713.png\"},{\"id\":1811,\"is_comprehensively_reviewed\":false,\"name\":\"Drugs.com\",\"updated_at\":\"2021-03-25T03:19:45.610Z\",\"created_at\":\"2019-08-26T03:57:30.001Z\",\"slug\":\"drugscom\",\"rating\":null,\"urls\":[\"drugs.com\"],\"image\":\"https://s3.tosdr.org/logos/1811.png\"},{\"id\":1492,\"is_comprehensively_reviewed\":false,\"name\":\"CARFAX Dominicana\",\"updated_at\":\"2021-03-25T03:19:45.770Z\",\"created_at\":\"2019-04-13T03:02:56.041Z\",\"slug\":\"carfax_dominicana\",\"rating\":null,\"urls\":[\"carfadom.com.do\"],\"image\":\"https://s3.tosdr.org/logos/1492.png\"},{\"id\":1738,\"is_comprehensively_reviewed\":false,\"name\":\"AFRINIC\",\"updated_at\":\"2021-03-25T03:19:46.059Z\",\"created_at\":\"2019-08-07T07:35:38.214Z\",\"slug\":\"afrinic\",\"rating\":null,\"urls\":[\"afrinic.net\"],\"image\":\"https://s3.tosdr.org/logos/1738.png\"},{\"id\":1724,\"is_comprehensively_reviewed\":false,\"name\":\"Cubash (discontinued?)\",\"updated_at\":\"2021-03-25T03:19:46.226Z\",\"created_at\":\"2019-07-28T18:53:12.890Z\",\"slug\":\"cubash_discontinued\",\"rating\":null,\"urls\":[\"cubash.com\"],\"image\":\"https://s3.tosdr.org/logos/1724.png\"},{\"id\":1716,\"is_comprehensively_reviewed\":false,\"name\":\"Project Gutenberg\",\"updated_at\":\"2021-03-25T03:19:46.753Z\",\"created_at\":\"2019-07-19T11:56:07.829Z\",\"slug\":\"project_gutenberg\",\"rating\":null,\"urls\":[\"www.gutenberg.org\",\"gutenberg.org\"],\"image\":\"https://s3.tosdr.org/logos/1716.png\"},{\"id\":1539,\"is_comprehensively_reviewed\":false,\"name\":\"cozycloud\",\"updated_at\":\"2021-03-25T03:19:48.100Z\",\"created_at\":\"2019-05-09T15:05:41.587Z\",\"slug\":\"cozycloud\",\"rating\":null,\"urls\":[\"cozy.io\"],\"image\":\"https://s3.tosdr.org/logos/1539.png\"},{\"id\":2898,\"is_comprehensively_reviewed\":false,\"name\":\"Puget Sound Energy\",\"updated_at\":\"2021-03-30T00:01:56.064Z\",\"created_at\":\"2021-03-29T18:18:10.830Z\",\"slug\":\"puget_sound_energy\",\"rating\":null,\"urls\":[\"pse.com\"],\"image\":\"https://s3.tosdr.org/logos/2898.png\"},{\"id\":2939,\"is_comprehensively_reviewed\":false,\"name\":\"Aternifies\",\"updated_at\":\"2021-04-03T00:01:00.332Z\",\"created_at\":\"2021-04-02T17:49:37.348Z\",\"slug\":\"aternifies\",\"rating\":null,\"urls\":[\"aternifies.cf\"],\"image\":\"https://s3.tosdr.org/logos/2939.png\"}]}}\n",
      "Retrieving page 1 of 90 from API...\n",
      "Retrieving page 2 of 90 from API...\n",
      "Retrieving page 3 of 90 from API...\n",
      "Retrieving page 4 of 90 from API...\n",
      "Retrieving page 5 of 90 from API...\n",
      "Retrieving page 6 of 90 from API...\n",
      "Retrieving page 7 of 90 from API...\n",
      "Retrieving page 8 of 90 from API...\n",
      "Retrieving page 9 of 90 from API...\n",
      "Retrieving page 10 of 90 from API...\n",
      "Retrieving page 11 of 90 from API...\n",
      "Retrieving page 12 of 90 from API...\n",
      "Retrieving page 13 of 90 from API...\n",
      "Retrieving page 14 of 90 from API...\n",
      "Retrieving page 15 of 90 from API...\n",
      "Retrieving page 16 of 90 from API...\n",
      "Retrieving page 17 of 90 from API...\n",
      "Retrieving page 18 of 90 from API...\n",
      "Retrieving page 19 of 90 from API...\n",
      "Retrieving page 20 of 90 from API...\n",
      "Retrieving page 21 of 90 from API...\n",
      "Retrieving page 22 of 90 from API...\n",
      "Retrieving page 23 of 90 from API...\n",
      "Retrieving page 24 of 90 from API...\n",
      "Retrieving page 25 of 90 from API...\n",
      "Retrieving page 26 of 90 from API...\n",
      "Retrieving page 27 of 90 from API...\n",
      "Retrieving page 28 of 90 from API...\n",
      "Retrieving page 29 of 90 from API...\n",
      "Retrieving page 30 of 90 from API...\n",
      "Retrieving page 31 of 90 from API...\n",
      "Retrieving page 32 of 90 from API...\n",
      "Retrieving page 33 of 90 from API...\n",
      "Retrieving page 34 of 90 from API...\n",
      "Retrieving page 35 of 90 from API...\n",
      "Retrieving page 36 of 90 from API...\n",
      "Retrieving page 37 of 90 from API...\n",
      "Retrieving page 38 of 90 from API...\n",
      "Retrieving page 39 of 90 from API...\n",
      "Retrieving page 40 of 90 from API...\n",
      "Retrieving page 41 of 90 from API...\n",
      "Retrieving page 42 of 90 from API...\n",
      "Retrieving page 43 of 90 from API...\n",
      "Retrieving page 44 of 90 from API...\n",
      "Retrieving page 45 of 90 from API...\n",
      "Retrieving page 46 of 90 from API...\n",
      "Retrieving page 47 of 90 from API...\n",
      "Retrieving page 48 of 90 from API...\n",
      "Retrieving page 49 of 90 from API...\n",
      "Retrieving page 50 of 90 from API...\n",
      "Retrieving page 51 of 90 from API...\n",
      "Retrieving page 52 of 90 from API...\n",
      "Retrieving page 53 of 90 from API...\n",
      "Retrieving page 54 of 90 from API...\n",
      "Retrieving page 55 of 90 from API...\n",
      "Retrieving page 56 of 90 from API...\n",
      "Retrieving page 57 of 90 from API...\n",
      "Retrieving page 58 of 90 from API...\n",
      "Retrieving page 59 of 90 from API...\n",
      "Retrieving page 60 of 90 from API...\n",
      "Retrieving page 61 of 90 from API...\n",
      "Retrieving page 62 of 90 from API...\n",
      "Retrieving page 63 of 90 from API...\n",
      "Retrieving page 64 of 90 from API...\n",
      "Retrieving page 65 of 90 from API...\n",
      "Retrieving page 66 of 90 from API...\n",
      "Retrieving page 67 of 90 from API...\n",
      "Retrieving page 68 of 90 from API...\n",
      "Retrieving page 69 of 90 from API...\n",
      "Retrieving page 70 of 90 from API...\n",
      "Retrieving page 71 of 90 from API...\n",
      "Retrieving page 72 of 90 from API...\n",
      "Retrieving page 73 of 90 from API...\n",
      "Retrieving page 74 of 90 from API...\n",
      "Retrieving page 75 of 90 from API...\n",
      "Retrieving page 76 of 90 from API...\n",
      "Retrieving page 77 of 90 from API...\n",
      "Retrieving page 78 of 90 from API...\n",
      "Retrieving page 79 of 90 from API...\n",
      "Retrieving page 80 of 90 from API...\n",
      "Retrieving page 81 of 90 from API...\n",
      "Retrieving page 82 of 90 from API...\n",
      "Retrieving page 83 of 90 from API...\n",
      "Retrieving page 84 of 90 from API...\n",
      "Retrieving page 85 of 90 from API...\n",
      "Retrieving page 86 of 90 from API...\n",
      "Retrieving page 87 of 90 from API...\n",
      "Retrieving page 88 of 90 from API...\n",
      "Retrieving page 89 of 90 from API...\n",
      "Retrieving page 90 of 90 from API...\n"
     ]
    }
   ],
   "source": [
    "services_endpoint = \"https://api.tosdr.org/service/v2\"\n",
    "# Pagination is enabled on this API so we can only get 100 at a time\n",
    "# Find how many pages we need first\n",
    "response = requests.get(services_endpoint)\n",
    "print(response.text)\n",
    "start = json.loads(response.text)[\"parameters\"][\"_page\"][\"start\"]\n",
    "end = json.loads(response.text)[\"parameters\"][\"_page\"][\"end\"]\n",
    "for i in range(start, end+1):\n",
    "    print(f\"Retrieving page {i} of {end} from API...\")\n",
    "    response = requests.get(services_endpoint, params={\"page\": i})\n",
    "    current_services = json.loads(response.text)[\"parameters\"][\"services\"]\n",
    "    # Filter services that would not offer useful data:\n",
    "    # is_comprehensively_reviewed = False \n",
    "    # rating = null\n",
    "    services += [\n",
    "        service for service in current_services\n",
    "        if (\n",
    "            service[\"is_comprehensively_reviewed\"]\n",
    "            and service[\"rating\"]\n",
    "        )\n",
    "    ]\n",
    "    # sleep so we don't get banned \n",
    "    time.sleep(2)"
   ]
  },
  {
   "cell_type": "code",
   "execution_count": 5,
   "metadata": {},
   "outputs": [],
   "source": [
    "cases_endpoint = \"https://api.tosdr.org/case/v1/\"\n",
    "cases = []"
   ]
  },
  {
   "cell_type": "code",
   "execution_count": 7,
   "metadata": {},
   "outputs": [
    {
     "name": "stdout",
     "output_type": "stream",
     "text": [
      "Retrieving page 1 of 3 from API...\n",
      "Retrieving page 2 of 3 from API...\n",
      "Retrieving page 3 of 3 from API...\n"
     ]
    }
   ],
   "source": [
    "# Find how many pages we need first\n",
    "response = requests.get(cases_endpoint)\n",
    "start = json.loads(response.text)[\"parameters\"][\"_page\"][\"start\"]\n",
    "end = json.loads(response.text)[\"parameters\"][\"_page\"][\"end\"]\n",
    "for i in range(start, end+1):\n",
    "    print(f\"Retrieving page {i} of {end} from API...\")\n",
    "    response = requests.get(cases_endpoint, params={\"page\": i})\n",
    "    current_cases = json.loads(response.text)[\"parameters\"][\"cases\"]\n",
    "    cases += current_cases\n",
    "    time.sleep(2)"
   ]
  },
  {
   "cell_type": "code",
   "execution_count": 9,
   "metadata": {},
   "outputs": [],
   "source": [
    "data = []\n",
    "# For each service, get all of its associated points \n",
    "response = requests.get(\"https://api.tosdr.org/service/v1/\", params={\"service\": services[0][\"id\"]})\n",
    "# for service in services:\n",
    "#     response = requests.get(\"https://api.tosdr.org/service/v2/\", params={\"id\": service[\"id\"]})\n",
    "#     response = json.loads(response.text)\n",
    "#     documents = response[\"parameters\"][\"documents\"]\n",
    "#     print(documents)\n",
    "#     # Filter out points that were declined \n",
    "#     points = [point for point in response[\"parameters\"][\"points\"] if point[\"status\"] != \"declined\"]\n",
    "#     # Filter out neutral points since we only want good and bad\n",
    "#     points = [point for point in points if point[\"case\"][\"classification\"] != \"neutral\"]\n"
   ]
  },
  {
   "cell_type": "code",
   "execution_count": null,
   "metadata": {},
   "outputs": [],
   "source": []
  }
 ],
 "metadata": {
  "kernelspec": {
   "display_name": "Python 3",
   "language": "python",
   "name": "python3"
  },
  "language_info": {
   "codemirror_mode": {
    "name": "ipython",
    "version": 3
   },
   "file_extension": ".py",
   "mimetype": "text/x-python",
   "name": "python",
   "nbconvert_exporter": "python",
   "pygments_lexer": "ipython3",
   "version": "3.11.7"
  }
 },
 "nbformat": 4,
 "nbformat_minor": 2
}
